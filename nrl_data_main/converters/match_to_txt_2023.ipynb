{
 "cells": [
  {
   "cell_type": "code",
   "execution_count": null,
   "metadata": {},
   "outputs": [],
   "source": [
    "import json\n",
    "import pandas as pd \n",
    "import numpy as np "
   ]
  },
  {
   "cell_type": "code",
   "execution_count": null,
   "metadata": {},
   "outputs": [],
   "source": [
    "teams = [\"Broncos\", \"Roosters\", \"Wests Tigers\", \"Rabbitohs\", \"Storm\", \"Eels\", \"Raiders\", \"Knights\", \"Dragons\", \"Sea Eagles\", \"Panthers\", \"Sharks\", \"Bulldogs\", \"Dolphins\", \"Titans\", \"Cowboys\", \"Warriors\"]\n",
    "variables =[\"Year\", \"Win\", \"Defense\", \"Attack\", \"Margin\", \"Home\", \"Versus\",  \"Round\"]\n",
    "years =  [2023]"
   ]
  },
  {
   "cell_type": "code",
   "execution_count": null,
   "metadata": {},
   "outputs": [],
   "source": [
    "\n",
    "# Initialize an empty dictionary to store data for each year\n",
    "years_arr = {}\n",
    "\n",
    "# Open the JSON file containing NRL data\n",
    "with open('../data/nrl_data_multi_years_2023.json', 'r') as file:\n",
    "    # Load JSON data from the file\n",
    "    data = json.load(file)\n",
    "    \n",
    "    # Extract NRL data from the loaded JSON\n",
    "    data = data['NRL']\n",
    "    \n",
    "    # Iterate over each year in the years list\n",
    "    for year in years:\n",
    "        # Extract data for the current year and store it in the years_arr dictionary\n",
    "        # Note: years.index(year) returns the index of the current year in the years list\n",
    "        #       This index is then used to access the corresponding data for that year\n",
    "        years_arr[year] = data[years.index(year)][str(year)]\n"
   ]
  },
  {
   "cell_type": "code",
   "execution_count": null,
   "metadata": {},
   "outputs": [],
   "source": [
    "# Create a DataFrame with columns representing combinations of team and variable names\n",
    "df = pd.DataFrame(columns=[f\"{team} {variable}\" for team in teams for variable in variables])"
   ]
  },
  {
   "cell_type": "code",
   "execution_count": null,
   "metadata": {},
   "outputs": [],
   "source": [
    "\n",
    "# Initialize an empty list to store data for all rounds\n",
    "all_store = []\n",
    "\n",
    "# Iterate over each year in the years list\n",
    "for year in years:\n",
    "    # Iterate over each round (assuming 26 rounds)\n",
    "    for round in range(0, 26):\n",
    "        try:\n",
    "            # Extract data for the current round\n",
    "            round_data = years_arr[year][round][str(round+1)]\n",
    "            \n",
    "            # Create an empty feature array \n",
    "            round_store = np.zeros([len(teams)*len(variables)], dtype=int)\n",
    "            round_teams = []\n",
    "            \n",
    "            # Iterate over each game in the round data\n",
    "            for game in round_data:\n",
    "                # Extract information about the game\n",
    "                h_team = game['Home']\n",
    "                h_score = int(game['Home_Score'])\n",
    "                a_team = game['Away']\n",
    "                a_score = int(game['Away_Score'])\n",
    "                \n",
    "                # Determine win or lose for each team\n",
    "                h_team_win, a_team_win = h_score >= a_score, a_score >= h_score\n",
    "                \n",
    "                # Determine home team status\n",
    "                h_home, a_home = 1, 0\n",
    "                \n",
    "                # Determine versus index\n",
    "                h_versus, a_versus= teams.index(a_team), teams.index(h_team)\n",
    "                \n",
    "                # Determine defense (points let in)\n",
    "                h_team_defense = a_score\n",
    "                a_team_defense = h_score  \n",
    "                \n",
    "                # Determine attack points scored\n",
    "                h_team_attack = h_score \n",
    "                a_team_attack = a_score   \n",
    "                \n",
    "                # Determine margin\n",
    "                h_team_margin =  h_score - a_score   \n",
    "                a_team_margin =  a_score - h_score        \n",
    "                \n",
    "                # Keep track of which teams played to work out which teams had a bye \n",
    "                round_teams.append(h_team)\n",
    "                round_teams.append(a_team)\n",
    "                \n",
    "                # Find the index of the team in the overarching array \n",
    "                a_team_idx = teams.index(a_team)\n",
    "                h_team_idx = teams.index(h_team)\n",
    "                \n",
    "                # Determine feature map index\n",
    "                a_team_idx_fm = a_team_idx * len(variables)\n",
    "                h_team_idx_fm = h_team_idx * len(variables)\n",
    "                \n",
    "                # Populate data for away team\n",
    "                for idx, data in zip(range(a_team_idx_fm, a_team_idx_fm + 8), \n",
    "                                    [year, a_team_win, a_team_defense, a_team_attack, a_team_margin, a_home, a_versus, round + 1]):\n",
    "                    round_store[idx] = data\n",
    "\n",
    "                # Populate data for home team\n",
    "                for idx, data in zip(range(h_team_idx_fm, h_team_idx_fm + 8),\n",
    "                                    [year, h_team_win, h_team_defense, h_team_attack, h_team_margin, h_home, h_versus, round + 1]):\n",
    "                    round_store[idx] = data\n",
    "                \n",
    "            # Determine teams with a bye\n",
    "            bye_teams = list(set(teams) - set(round_teams))\n",
    "            \n",
    "            # Assign values for teams with a bye\n",
    "            for bye_team in bye_teams:\n",
    "                b_team_idx = teams.index(bye_team)\n",
    "                b_team_idx_fm = b_team_idx * len(variables)\n",
    "                round_store[b_team_idx_fm] = year\n",
    "                round_store[b_team_idx_fm+1] = -1\n",
    "                round_store[b_team_idx_fm+2] = -1\n",
    "                round_store[b_team_idx_fm+3] = -1\n",
    "                round_store[b_team_idx_fm+4] = 0\n",
    "                round_store[b_team_idx_fm+5] = -1\n",
    "                round_store[b_team_idx_fm+6] = -1\n",
    "                round_store[b_team_idx_fm+7] = round+1\n",
    "                \n",
    "            # Append the round data to the all_store list\n",
    "            all_store.append(round_store)\n",
    "            \n",
    "            # Add the new row to the DataFrame using loc\n",
    "            df.loc[len(df)] = round_store\n",
    "        except Exception as ex:\n",
    "            print(ex)"
   ]
  },
  {
   "cell_type": "code",
   "execution_count": null,
   "metadata": {},
   "outputs": [],
   "source": [
    "df"
   ]
  },
  {
   "cell_type": "code",
   "execution_count": null,
   "metadata": {},
   "outputs": [],
   "source": [
    "df.to_csv('../data/txt/match_data_2023.txt', sep='\\t', index=False)"
   ]
  },
  {
   "cell_type": "code",
   "execution_count": null,
   "metadata": {},
   "outputs": [],
   "source": [
    "df.to_csv('../data/txt/match_data_2023.csv', sep='\\t', index=False)"
   ]
  }
 ],
 "metadata": {
  "kernelspec": {
   "display_name": "Python 3",
   "language": "python",
   "name": "python3"
  },
  "language_info": {
   "codemirror_mode": {
    "name": "ipython",
    "version": 3
   },
   "file_extension": ".py",
   "mimetype": "text/x-python",
   "name": "python",
   "nbconvert_exporter": "python",
   "pygments_lexer": "ipython3",
   "version": "3.9.0"
  }
 },
 "nbformat": 4,
 "nbformat_minor": 2
}
