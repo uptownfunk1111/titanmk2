{
 "cells": [
  {
   "cell_type": "code",
   "execution_count": 16,
   "metadata": {},
   "outputs": [],
   "source": [
    "import json\n",
    "import pandas as pd \n",
    "import sys\n",
    "from collections import defaultdict\n",
    "\n",
    "\n",
    "sys.path.append('..')\n",
    "import ENVIRONMENT_VARIABLES as EV"
   ]
  },
  {
   "cell_type": "code",
   "execution_count": 17,
   "metadata": {},
   "outputs": [],
   "source": [
    "years_analysed = [2023]"
   ]
  },
  {
   "cell_type": "code",
   "execution_count": 18,
   "metadata": {},
   "outputs": [],
   "source": [
    "teams = [\"Broncos\", \"Roosters\", \"Wests Tigers\", \"Rabbitohs\", \"Storm\", \"Eels\", \"Raiders\", \"Knights\", \"Dragons\", \"Sea Eagles\", \"Panthers\", \"Sharks\", \"Bulldogs\", \"Dolphins\", \"Titans\", \"Cowboys\", \"Warriors\"]\n",
    "variables =[\"Year\", \"Win\", \"Defense\", \"Attack\", \"Margin\", \"Home\", \"Versus\",  \"Round\"]\n",
    "years =  [2019, 2020, 2021, 2022, 2023, 2024, 2025]"
   ]
  },
  {
   "cell_type": "code",
   "execution_count": 19,
   "metadata": {},
   "outputs": [],
   "source": [
    "player_variables =[\"Name\"] +EV.PLAYER_LABELS"
   ]
  },
  {
   "cell_type": "code",
   "execution_count": null,
   "metadata": {},
   "outputs": [
    {
     "ename": "KeyError",
     "evalue": "0",
     "output_type": "error",
     "traceback": [
      "\u001b[31m---------------------------------------------------------------------------\u001b[39m",
      "\u001b[31mKeyError\u001b[39m                                  Traceback (most recent call last)",
      "\u001b[36mCell\u001b[39m\u001b[36m \u001b[39m\u001b[32mIn[20]\u001b[39m\u001b[32m, line 7\u001b[39m\n\u001b[32m      5\u001b[39m \u001b[38;5;28;01mwith\u001b[39;00m \u001b[38;5;28mopen\u001b[39m(\u001b[33m'\u001b[39m\u001b[33m../data/NRL/2025/NRL_player_statistics_2025.json\u001b[39m\u001b[33m'\u001b[39m, \u001b[33m'\u001b[39m\u001b[33mr\u001b[39m\u001b[33m'\u001b[39m) \u001b[38;5;28;01mas\u001b[39;00m file:\n\u001b[32m      6\u001b[39m     data = json.load(file)  \u001b[38;5;66;03m# Load JSON data from the file\u001b[39;00m\n\u001b[32m----> \u001b[39m\u001b[32m7\u001b[39m     data = \u001b[43mdata\u001b[49m\u001b[43m[\u001b[49m\u001b[32;43m0\u001b[39;49m\u001b[43m]\u001b[49m[\u001b[33m'\u001b[39m\u001b[33m2025\u001b[39m\u001b[33m'\u001b[39m][\u001b[33m'\u001b[39m\u001b[33mPlayerStats\u001b[39m\u001b[33m'\u001b[39m]  \u001b[38;5;66;03m# Adjust indexing to access 'PlayerStats' key\u001b[39;00m\n\u001b[32m      8\u001b[39m     \u001b[38;5;28;01mfor\u001b[39;00m year \u001b[38;5;129;01min\u001b[39;00m years_analysed:  \u001b[38;5;66;03m# Iterate over the years to be analyzed\u001b[39;00m\n\u001b[32m      9\u001b[39m         \u001b[38;5;66;03m# Store player statistics data for the current year in the 'years_arr' dictionary\u001b[39;00m\n\u001b[32m     10\u001b[39m         years_arr[year] = data[\u001b[32m0\u001b[39m][\u001b[38;5;28mstr\u001b[39m(year)][\u001b[33m'\u001b[39m\u001b[33mPlayerStats\u001b[39m\u001b[33m'\u001b[39m]\n",
      "\u001b[31mKeyError\u001b[39m: 0"
     ]
    }
   ],
   "source": [
    "# Initialize an empty dictionary to store player statistics for each year\n",
    "years_arr = {}\n",
    "\n",
    "# Open the JSON file containing player statistics data for a specific year\n",
    "with open('../data/NRL/2025/NRL_player_statistics_2025.json', 'r') as file:\n",
    "    data = json.load(file)  # Load JSON data from the file\n",
    "    data = data['2025']['PlayerStats']  # Adjust indexing to access 'PlayerStats' key\n",
    "    for year in years_analysed:  # Iterate over the years to be analyzed\n",
    "        # Store player statistics data for the current year in the 'years_arr' dictionary\n",
    "        years_arr[year] = data"
   ]
  },
  {
   "cell_type": "code",
   "execution_count": null,
   "metadata": {},
   "outputs": [],
   "source": [
    "df = pd.DataFrame(columns=[f\"{team} {variable}\" for team in teams for variable in player_variables])"
   ]
  },
  {
   "cell_type": "code",
   "execution_count": null,
   "metadata": {},
   "outputs": [],
   "source": [
    "# p_dfs = {}\n",
    "\n",
    "# def custom_sort(column_name):\n",
    "#     year, num = column_name.split('-')\n",
    "#     return int(year), int(num)\n",
    "\n",
    "\n",
    "# for team in teams:\n",
    "#     p_dfs[team] = pd.DataFrame(columns=[f\"{year}-{round+1}\" for round in range(0, 26) for year in years_analysed])\n",
    "#     p_dfs[team] = p_dfs[team][sorted(p_dfs[team].columns, key=custom_sort)]\n",
    "    "
   ]
  },
  {
   "cell_type": "code",
   "execution_count": null,
   "metadata": {},
   "outputs": [],
   "source": [
    "# team_players = {}\n",
    "\n",
    "# for year in years_analysed:\n",
    "#     for i in range(0, 26):\n",
    "#         try:\n",
    "#             round = years_arr[year][i]\n",
    "#             round = round[str(i)]\n",
    "#             for round_game in round:\n",
    "#                 for game in round_game:\n",
    "#                     game_split = game.split(\"-\")\n",
    "#                     game_year = game_split[0]\n",
    "#                     game_round = game_split[1]\n",
    "                    \n",
    "#                     game_split = game.split(\"v\")\n",
    "#                     home_team = \" \".join(game_split[0].split(\"-\")[2:]).replace(\"-\", \" \").strip()\n",
    "#                     away_team = \" \".join(game_split[-1:]).replace(\"-\", \" \").strip()\n",
    "\n",
    "#                     print(f\"{home_team} v {away_team} - {game_year} - {game_round}\")\n",
    "\n",
    "                    \n",
    "#                     players = round_game[game]\n",
    "#                     player_round_stats = {} \n",
    "#                     for player in players:\n",
    "#                         vals = [player[val] for val in  player_variables]\n",
    "#                         player_round_stats[vals[0]] = vals[1:]\n",
    "                    \n",
    "#                     player_round_stats = list(player_round_stats.items())\n",
    "#                     player_round_stats_home, player_round_stats_away = player_round_stats[:18], player_round_stats[18:]\n",
    "#                     p_dfs[home_team][f\"{year}-{i+1}\"] = player_round_stats_home\n",
    "#                     p_dfs[away_team][f\"{year}-{i+1}\"] = player_round_stats_away\n",
    "\n",
    "                    \n",
    "                    \n",
    "#         except Exception as ex:\n",
    "#             print(ex)\n"
   ]
  },
  {
   "cell_type": "code",
   "execution_count": null,
   "metadata": {},
   "outputs": [],
   "source": [
    "\n",
    "player_stats = defaultdict(list)  # Dictionary to store player statistics\n",
    "\n",
    "for year in years_analysed:  # Loop through each year to analyze\n",
    "    for i in range(0, 26):  # Loop through each round (assuming there are 26 rounds)\n",
    "        try:\n",
    "            round = years_arr[year][i]  # Get data for a particular round\n",
    "            round = round[str(i)]  # Assuming round is stored as a string key\n",
    "            for round_game in round:  # Loop through each game in the round\n",
    "                for game in round_game:  # Loop through each team's performance in the game\n",
    "                    # Splitting game data to extract year, round, home team, and away team\n",
    "                    game_split = game.split(\"-\")\n",
    "                    game_year, game_round = game_split[0], game_split[1]\n",
    "\n",
    "                    game_split = game.split(\"v\")\n",
    "                    home_team = \" \".join(game_split[0].split(\"-\")[2:]).replace(\"-\", \" \").strip()\n",
    "                    away_team = \" \".join(game_split[-1:]).replace(\"-\", \" \").strip()\n",
    "\n",
    "                    players = round_game[game]  # List of players in the game\n",
    "                    player_round_stats = {}  # Dictionary to store player statistics for the game\n",
    "                    for player in players:  # Loop through each player's stats\n",
    "                        vals = [player[val] for val in player_variables]  # Extract required stats for each player\n",
    "                        player_round_stats[vals[0]] = vals[1:]  # Store player stats with player ID as key\n",
    "                    \n",
    "                    player_round_stats = list(player_round_stats.items())  # Convert player stats to list of tuples\n",
    "                    # Split player stats into home and away team stats\n",
    "                    player_round_stats_home, player_round_stats_away = player_round_stats[:18], player_round_stats[18:]\n",
    "                    \n",
    "                    # Append home team player stats to player_stats dictionary\n",
    "                    for player in player_round_stats_home:\n",
    "                        player_stats[player[0]].append([player[1], game_round, home_team, away_team])\n",
    "                    # Append away team player stats to player_stats dictionary\n",
    "                    for player in player_round_stats_away:\n",
    "                        player_stats[player[0]].append([player[1], game_round, away_team, home_team])\n",
    "        except IndexError as ex:\n",
    "            print(f\"Run out of round data, round: {i}, \\n{ex}\")\n",
    "                    \n",
    "        except Exception as ex:\n",
    "            print(f\"{ex}\\tround: {i}:{game}\")  # Print any exceptions that occur during processing\n"
   ]
  },
  {
   "cell_type": "code",
   "execution_count": null,
   "metadata": {},
   "outputs": [],
   "source": [
    "headers"
   ]
  },
  {
   "cell_type": "code",
   "execution_count": null,
   "metadata": {},
   "outputs": [],
   "source": [
    "# Combine player labels with additional information\n",
    "headers = EV.PLAYER_LABELS + [\"Round\", \"Team\", \"Opposition\"]\n",
    "\n",
    "# Loop through each player and their statistics\n",
    "for player, values in player_stats.items():\n",
    "    # Combine round statistics with additional information\n",
    "    player_stat = [[*round[0], *round[1:]] for round in values]\n",
    "    # Create a DataFrame from the combined statistics and headers\n",
    "    df = pd.DataFrame(player_stat, columns=headers)\n",
    "\n",
    "    # Save the DataFrame as both text and CSV files with player's ID as the filename\n",
    "    df.to_csv(f\"../data/txt/players/txt/{player}.txt\", encoding='utf-8', sep='\\t', index=False)\n",
    "    df.to_csv(f\"../data/txt/players/csv/{player}.csv\", encoding='utf-8', sep='\\t', index=False)\n",
    "\n"
   ]
  }
 ],
 "metadata": {
  "kernelspec": {
   "display_name": "Python 3",
   "language": "python",
   "name": "python3"
  },
  "language_info": {
   "codemirror_mode": {
    "name": "ipython",
    "version": 3
   },
   "file_extension": ".py",
   "mimetype": "text/x-python",
   "name": "python",
   "nbconvert_exporter": "python",
   "pygments_lexer": "ipython3",
   "version": "3.12.10"
  }
 },
 "nbformat": 4,
 "nbformat_minor": 2
}
