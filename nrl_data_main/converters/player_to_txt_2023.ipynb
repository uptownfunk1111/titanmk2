{
 "cells": [
  {
   "cell_type": "code",
   "execution_count": null,
   "metadata": {},
   "outputs": [],
   "source": [
    "import json\n",
    "import pandas as pd \n",
    "import sys\n",
    "from collections import defaultdict\n",
    "\n",
    "\n",
    "sys.path.append('..')\n",
    "import ENVIRONMENT_VARIABLES as EV"
   ]
  },
  {
   "cell_type": "code",
   "execution_count": null,
   "metadata": {},
   "outputs": [],
   "source": [
    "years_analysed = [2023]"
   ]
  },
  {
   "cell_type": "code",
   "execution_count": null,
   "metadata": {},
   "outputs": [],
   "source": [
    "teams = [\"Broncos\", \"Roosters\", \"Wests Tigers\", \"Rabbitohs\", \"Storm\", \"Eels\", \"Raiders\", \"Knights\", \"Dragons\", \"Sea Eagles\", \"Panthers\", \"Sharks\", \"Bulldogs\", \"Dolphins\", \"Titans\", \"Cowboys\", \"Warriors\"]\n",
    "variables =[\"Year\", \"Win\", \"Defense\", \"Attack\", \"Margin\", \"Home\", \"Versus\",  \"Round\"]\n",
    "years =  [2008, 2009, 2010, 2011, 2012, 2013, 2014, 2015, 2016, 2017, 2018, 2022, 2023]"
   ]
  },
  {
   "cell_type": "code",
   "execution_count": null,
   "metadata": {},
   "outputs": [],
   "source": [
    "player_variables =[\"Name\"] +EV.PLAYER_LABELS"
   ]
  },
  {
   "cell_type": "code",
   "execution_count": null,
   "metadata": {},
   "outputs": [],
   "source": [
    "# Initialize an empty dictionary to store player statistics for each year\n",
    "years_arr = {}\n",
    "\n",
    "# Open the JSON file containing player statistics data for a specific year\n",
    "with open('../data/player_statistics_2023.json', 'r') as file:\n",
    "    data = json.load(file)  # Load JSON data from the file\n",
    "    data = data['PlayerStats']  # Extract the 'PlayerStats' key from the JSON data\n",
    "    for year in years_analysed:  # Iterate over the years to be analyzed\n",
    "        # Store player statistics data for the current year in the 'years_arr' dictionary\n",
    "        years_arr[year] = data[years_analysed.index(year)][str(year)]"
   ]
  },
  {
   "cell_type": "code",
   "execution_count": null,
   "metadata": {},
   "outputs": [],
   "source": [
    "df = pd.DataFrame(columns=[f\"{team} {variable}\" for team in teams for variable in player_variables])"
   ]
  },
  {
   "cell_type": "code",
   "execution_count": null,
   "metadata": {},
   "outputs": [],
   "source": [
    "# p_dfs = {}\n",
    "\n",
    "# def custom_sort(column_name):\n",
    "#     year, num = column_name.split('-')\n",
    "#     return int(year), int(num)\n",
    "\n",
    "\n",
    "# for team in teams:\n",
    "#     p_dfs[team] = pd.DataFrame(columns=[f\"{year}-{round+1}\" for round in range(0, 26) for year in years_analysed])\n",
    "#     p_dfs[team] = p_dfs[team][sorted(p_dfs[team].columns, key=custom_sort)]\n",
    "    "
   ]
  },
  {
   "cell_type": "code",
   "execution_count": null,
   "metadata": {},
   "outputs": [],
   "source": [
    "# team_players = {}\n",
    "\n",
    "# for year in years_analysed:\n",
    "#     for i in range(0, 26):\n",
    "#         try:\n",
    "#             round = years_arr[year][i]\n",
    "#             round = round[str(i)]\n",
    "#             for round_game in round:\n",
    "#                 for game in round_game:\n",
    "#                     game_split = game.split(\"-\")\n",
    "#                     game_year = game_split[0]\n",
    "#                     game_round = game_split[1]\n",
    "                    \n",
    "#                     game_split = game.split(\"v\")\n",
    "#                     home_team = \" \".join(game_split[0].split(\"-\")[2:]).replace(\"-\", \" \").strip()\n",
    "#                     away_team = \" \".join(game_split[-1:]).replace(\"-\", \" \").strip()\n",
    "\n",
    "#                     print(f\"{home_team} v {away_team} - {game_year} - {game_round}\")\n",
    "\n",
    "                    \n",
    "#                     players = round_game[game]\n",
    "#                     player_round_stats = {} \n",
    "#                     for player in players:\n",
    "#                         vals = [player[val] for val in  player_variables]\n",
    "#                         player_round_stats[vals[0]] = vals[1:]\n",
    "                    \n",
    "#                     player_round_stats = list(player_round_stats.items())\n",
    "#                     player_round_stats_home, player_round_stats_away = player_round_stats[:18], player_round_stats[18:]\n",
    "#                     p_dfs[home_team][f\"{year}-{i+1}\"] = player_round_stats_home\n",
    "#                     p_dfs[away_team][f\"{year}-{i+1}\"] = player_round_stats_away\n",
    "\n",
    "                    \n",
    "                    \n",
    "#         except Exception as ex:\n",
    "#             print(ex)\n"
   ]
  },
  {
   "cell_type": "code",
   "execution_count": null,
   "metadata": {},
   "outputs": [],
   "source": [
    "\n",
    "player_stats = defaultdict(list)  # Dictionary to store player statistics\n",
    "\n",
    "for year in years_analysed:  # Loop through each year to analyze\n",
    "    for i in range(0, 26):  # Loop through each round (assuming there are 26 rounds)\n",
    "        try:\n",
    "            round = years_arr[year][i]  # Get data for a particular round\n",
    "            round = round[str(i)]  # Assuming round is stored as a string key\n",
    "            for round_game in round:  # Loop through each game in the round\n",
    "                for game in round_game:  # Loop through each team's performance in the game\n",
    "                    # Splitting game data to extract year, round, home team, and away team\n",
    "                    game_split = game.split(\"-\")\n",
    "                    game_year, game_round = game_split[0], game_split[1]\n",
    "\n",
    "                    game_split = game.split(\"v\")\n",
    "                    home_team = \" \".join(game_split[0].split(\"-\")[2:]).replace(\"-\", \" \").strip()\n",
    "                    away_team = \" \".join(game_split[-1:]).replace(\"-\", \" \").strip()\n",
    "\n",
    "                    players = round_game[game]  # List of players in the game\n",
    "                    player_round_stats = {}  # Dictionary to store player statistics for the game\n",
    "                    for player in players:  # Loop through each player's stats\n",
    "                        vals = [player[val] for val in player_variables]  # Extract required stats for each player\n",
    "                        player_round_stats[vals[0]] = vals[1:]  # Store player stats with player ID as key\n",
    "                    \n",
    "                    player_round_stats = list(player_round_stats.items())  # Convert player stats to list of tuples\n",
    "                    # Split player stats into home and away team stats\n",
    "                    player_round_stats_home, player_round_stats_away = player_round_stats[:18], player_round_stats[18:]\n",
    "                    \n",
    "                    # Append home team player stats to player_stats dictionary\n",
    "                    for player in player_round_stats_home:\n",
    "                        player_stats[player[0]].append([player[1], game_round, home_team, away_team])\n",
    "                    # Append away team player stats to player_stats dictionary\n",
    "                    for player in player_round_stats_away:\n",
    "                        player_stats[player[0]].append([player[1], game_round, away_team, home_team])\n",
    "        except IndexError as ex:\n",
    "            print(f\"Run out of round data, round: {i}, \\n{ex}\")\n",
    "                    \n",
    "        except Exception as ex:\n",
    "            print(f\"{ex}\\tround: {i}:{game}\")  # Print any exceptions that occur during processing\n"
   ]
  },
  {
   "cell_type": "code",
   "execution_count": null,
   "metadata": {},
   "outputs": [],
   "source": [
    "headers"
   ]
  },
  {
   "cell_type": "code",
   "execution_count": null,
   "metadata": {},
   "outputs": [],
   "source": [
    "# Combine player labels with additional information\n",
    "headers = EV.PLAYER_LABELS + [\"Round\", \"Team\", \"Opposition\"]\n",
    "\n",
    "# Loop through each player and their statistics\n",
    "for player, values in player_stats.items():\n",
    "    # Combine round statistics with additional information\n",
    "    player_stat = [[*round[0], *round[1:]] for round in values]\n",
    "    # Create a DataFrame from the combined statistics and headers\n",
    "    df = pd.DataFrame(player_stat, columns=headers)\n",
    "\n",
    "    # Save the DataFrame as both text and CSV files with player's ID as the filename\n",
    "    df.to_csv(f\"../data/txt/players/txt/{player}.txt\", encoding='utf-8', sep='\\t', index=False)\n",
    "    df.to_csv(f\"../data/txt/players/csv/{player}.csv\", encoding='utf-8', sep='\\t', index=False)\n",
    "\n"
   ]
  }
 ],
 "metadata": {
  "kernelspec": {
   "display_name": "Python 3",
   "language": "python",
   "name": "python3"
  },
  "language_info": {
   "codemirror_mode": {
    "name": "ipython",
    "version": 3
   },
   "file_extension": ".py",
   "mimetype": "text/x-python",
   "name": "python",
   "nbconvert_exporter": "python",
   "pygments_lexer": "ipython3",
   "version": "3.9.0"
  }
 },
 "nbformat": 4,
 "nbformat_minor": 2
}
